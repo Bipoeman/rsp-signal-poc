{
 "cells": [
  {
   "cell_type": "code",
   "execution_count": 125,
   "metadata": {},
   "outputs": [
    {
     "data": {
      "text/plain": [
       "[<matplotlib.lines.Line2D at 0x27534f7e8c0>]"
      ]
     },
     "execution_count": 125,
     "metadata": {},
     "output_type": "execute_result"
    },
    {
     "data": {
      "image/png": "[encoded data removed]",
      "text/plain": [
       "<Figure size 640x480 with 2 Axes>"
      ]
     },
     "metadata": {},
     "output_type": "display_data"
    }
   ],
   "source": [
    "import matplotlib.pyplot as plt\n",
    "import math\n",
    "\n",
    "def sin_series_gen(freq,amplitude,dt,t_series):\n",
    "    return [math.sin((dt * freq * 2 * math.pi * amplitude) * t_series[i] / dt) for i in range(len(t_series))]\n",
    "\n",
    "def unit_step_series_gen(t0,dt,t_series):\n",
    "    return [1 if t_series[i] >= -t0 else 0 for i in range(len(t_series))]\n",
    "\n",
    "def time_series_gen(duration):\n",
    "    dt = duration / 10000 * 1.25\n",
    "    series = [dt * i for i in range(-2500,10000,1)]\n",
    "    return dt,series\n",
    "\n",
    "def sum_series(*args : list,scale_down = True):\n",
    "    argLen = len(args[0])\n",
    "    tempSum = 0\n",
    "    sum : list = []\n",
    "    for index in range(argLen):\n",
    "        for argIndex in range(len(args)):\n",
    "            tempSum += args[argIndex][index]\n",
    "            # print(tempSum)\n",
    "        sum.append(tempSum * ((1 / len(args)) if scale_down == True else 1))\n",
    "        tempSum = 0\n",
    "    return sum\n",
    "\n",
    "def sub_series(*args : list,scale_down = True):\n",
    "    argLen = len(args[0])\n",
    "    tempSub = 0\n",
    "    sub : list = []\n",
    "    for index in range(argLen):\n",
    "        for argIndex in range(len(args)):\n",
    "            tempSub -= args[argIndex][index]\n",
    "            # print(tempSub)\n",
    "        sub.append(tempSub * ((1 / len(args)) if scale_down == True else 1))\n",
    "        tempSub = 0\n",
    "    return sub\n",
    "\n",
    "def multi_series(*args : list,scale_down = True):\n",
    "    argLen = len(args[0])\n",
    "    tempMulti = 1\n",
    "    sum : list = []\n",
    "    for index in range(argLen):\n",
    "        for argIndex in range(len(args)):\n",
    "            tempMulti *= args[argIndex][index] \n",
    "        sum.append(tempMulti * ((1 / len(args)) if (scale_down == True) else 1))\n",
    "        tempMulti = 1\n",
    "    return sum\n",
    "        \n",
    "\n",
    "dt, t_series = time_series_gen(5)\n",
    "sin_series_1 = sin_series_gen(0.5,1,dt,t_series)\n",
    "sin_series_5 = sin_series_gen(5,0.5,dt,t_series)\n",
    "sin_series_10 = sin_series_gen(10,0.2,dt,t_series)\n",
    "sin_sum = sum_series(sin_series_1,sin_series_5,sin_series_10)\n",
    "\n",
    "step1 = unit_step_series_gen(0,dt,t_series)\n",
    "step2 = unit_step_series_gen(-3,dt,t_series)\n",
    "step_sub = sub_series(step1,step2,scale_down=False)\n",
    "\n",
    "fig,ax = plt.subplots(2)\n",
    "# ax.plot(t_series,step_sub)\n",
    "ax[0].plot(t_series,step1)\n",
    "ax[1].plot(t_series,step2)"
   ]
  }
 ],
 "metadata": {
  "kernelspec": {
   "display_name": "Python 3",
   "language": "python",
   "name": "python3"
  },
  "language_info": {
   "codemirror_mode": {
    "name": "ipython",
    "version": 3
   },
   "file_extension": ".py",
   "mimetype": "text/x-python",
   "name": "python",
   "nbconvert_exporter": "python",
   "pygments_lexer": "ipython3",
   "version": "3.10.8"
  },
  "orig_nbformat": 4
 },
 "nbformat": 4,
 "nbformat_minor": 2
}
