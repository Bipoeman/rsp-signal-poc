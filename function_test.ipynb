{
 "cells": [
  {
   "cell_type": "code",
   "execution_count": 190,
   "metadata": {},
   "outputs": [],
   "source": [
    "import matplotlib.pyplot as plt\n",
    "import math\n",
    "\n",
    "def sin_series_gen(freq,amplitude,dt,t_series):\n",
    "    return [math.sin((dt * freq * 2 * math.pi * amplitude) * t_series[i] / dt) for i in range(len(t_series))]\n",
    "\n",
    "def unit_step_series_gen(t0,dt,t_series):\n",
    "    return [1 if t_series[i] >= -t0 else 0 for i in range(len(t_series))]\n",
    "\n",
    "def time_series_gen(duration):\n",
    "    dt = duration / 1000 * 1.25\n",
    "    series = [dt * i for i in range(-250,1000,1)]\n",
    "    return dt,series\n",
    "\n",
    "def sum_series(*args : list,scale_down = True):\n",
    "    argLen = len(args[0])\n",
    "    tempSum = 0\n",
    "    sum : list = []\n",
    "    for index in range(argLen):\n",
    "        for argIndex in range(len(args)):\n",
    "            tempSum += args[argIndex][index]\n",
    "            # print(tempSum)\n",
    "        sum.append(tempSum * ((1 / len(args)) if scale_down == True else 1))\n",
    "        tempSum = 0\n",
    "    return sum\n",
    "\n",
    "def sub_series(*args : list,scale_down = True):\n",
    "    argLen = len(args[0])\n",
    "    tempSub = 0\n",
    "    sub : list = []\n",
    "    for index in range(argLen):\n",
    "        for argIndex in range(1,len(args)):\n",
    "            tempSub = args[0][index] - args[argIndex][index]\n",
    "            sub.append(tempSub * ((1 / len(args)) if scale_down == True else 1))\n",
    "            # print(tempSub)\n",
    "        # tempSub = 1\n",
    "    return sub\n",
    "\n",
    "def multi_series(*args : list,scale_down = True):\n",
    "    argLen = len(args[0])\n",
    "    tempMulti = 1\n",
    "    sum : list = []\n",
    "    for index in range(argLen):\n",
    "        for argIndex in range(len(args)):\n",
    "            tempMulti *= args[argIndex][index] \n",
    "        sum.append(tempMulti * ((1 / len(args)) if (scale_down == True) else 1))\n",
    "        tempMulti = 1\n",
    "    return sum\n"
   ]
  },
  {
   "cell_type": "code",
   "execution_count": 191,
   "metadata": {},
   "outputs": [],
   "source": [
    "import numpy as np\n",
    "def dft(x):\n",
    "  N, yr, yi = len(x), [], []\n",
    "  for k in range(N):\n",
    "    real, imag = 0, 0\n",
    "    for n in range(N):\n",
    "      theta = -k * (2 * math.pi) * (float(n) / N)\n",
    "      real += x[n] * math.cos(theta)\n",
    "      imag += x[n] * math.sin(theta)\n",
    "    yr.append(real / N)\n",
    "    yi.append(imag / N)\n",
    "  return yr, yi\n",
    "\n",
    "def my_dft(arr : list):\n",
    "    length = len(arr)\n",
    "    result = 0\n",
    "    output = []\n",
    "    for j in range(length):\n",
    "      for index,member in enumerate(arr):\n",
    "          result += member * np.exp(-1j*2*np.pi*index*j / length)\n",
    "      output.append(result)\n",
    "      result = 0\n",
    "      \n",
    "    return output\n",
    "\n",
    "dt, t_series = time_series_gen(5)\n",
    "sin_series_1 = sin_series_gen(1,1,dt,t_series)\n",
    "sin_series_5 = sin_series_gen(50,0.5,dt,t_series)\n",
    "sin_series_10 = sin_series_gen(100,0.2,dt,t_series)\n",
    "sin_sum = sum_series(sin_series_1,sin_series_5,sin_series_10)\n",
    "\n",
    "step1 = unit_step_series_gen(0,dt,t_series)\n",
    "step2 = unit_step_series_gen(-3,dt,t_series)\n",
    "step_sub = sub_series(step1,step2,scale_down=False)\n",
    "\n",
    "# -(e^-st / s)\n",
    "# -e^-jwt\n",
    "# fig2,ax2 = plt.subplots()\n",
    "\n",
    "# ax2.plot(t_series,step_sub)\n",
    "\n",
    "# fig,ax = plt.subplots(3)\n",
    "# ax.plot(t_series,step_sub)\n",
    "# ax[0].plot(t_series,step1)\n",
    "# ax[1].plot(t_series,step2)\n",
    "x = my_dft(sin_sum)"
   ]
  },
  {
   "cell_type": "code",
   "execution_count": 193,
   "metadata": {},
   "outputs": [
    {
     "data": {
      "text/plain": [
       "[<matplotlib.lines.Line2D at 0x275364db5e0>]"
      ]
     },
     "execution_count": 193,
     "metadata": {},
     "output_type": "execute_result"
    },
    {
     "data": {
      "image/png": "[encoded data removed]",
      "text/plain": [
       "<Figure size 640x480 with 1 Axes>"
      ]
     },
     "metadata": {},
     "output_type": "display_data"
    }
   ],
   "source": [
    "fig3,ax3 = plt.subplots()\n",
    "y = x[500:]\n",
    "ax3.plot([i*0.01 for i in range(len(x))],x)"
   ]
  },
  {
   "cell_type": "code",
   "execution_count": null,
   "metadata": {},
   "outputs": [],
   "source": [
    "#DFT Test\n",
    "import numpy as np\n",
    "def dft(arr : list,inputIndex):\n",
    "    length = len(arr)\n",
    "    result = 0\n",
    "    for index,member in enumerate(arr):\n",
    "        # print(index,member)\n",
    "        result += member * np.exp(-1j*2*np.pi*index*inputIndex / length)\n",
    "    return result\n",
    "\n",
    "arr = [0,1,2,3]\n",
    "for i,mem in enumerate(arr):\n",
    "    print(dft(arr,i))\n",
    "    \n",
    "    "
   ]
  }
 ],
 "metadata": {
  "kernelspec": {
   "display_name": "Python 3",
   "language": "python",
   "name": "python3"
  },
  "language_info": {
   "name": "python",
   "version": "3.10.8"
  },
  "orig_nbformat": 4
 },
 "nbformat": 4,
 "nbformat_minor": 2
}
