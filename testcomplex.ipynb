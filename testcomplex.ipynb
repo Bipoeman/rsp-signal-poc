{
 "cells": [
  {
   "cell_type": "code",
   "execution_count": 17,
   "metadata": {},
   "outputs": [
    {
     "name": "stdout",
     "output_type": "stream",
     "text": [
      "2.0833333333333333e-05\n",
      "\n",
      "data->a0 = 4.166997411363223f;\n",
      "data->a1 = -7.9656324358575f;\n",
      "data->a2 = 3.867370152779277f;\n",
      "data->b0 = 4.092090596717236f;\n",
      "data->b1 = 7.9656324358575f;\n",
      "data->b2 = -3.9422769674252636f;\n",
      "      \n"
     ]
    },
    {
     "data": {
      "text/plain": [
       "'\\ndata->a0 = 4.427517361111112f;\\ndata->a1 = -7.978298611111111f;\\ndata->a2 = 3.594184027777778f;\\ndata->b0 = 4.219184027777778f;\\ndata->b1 = 7.978298611111111f;\\ndata->b2 = -3.802517361111111f;\\n'"
      ]
     },
     "execution_count": 17,
     "metadata": {},
     "output_type": "execute_result"
    }
   ],
   "source": [
    "from math import *\n",
    "import matplotlib.pyplot as plt\n",
    "import numpy as np\n",
    "gain = 2\n",
    "q = 3.5\n",
    "fc = 1000\n",
    "T = 1/48000\n",
    "fc *= 2*np.pi\n",
    "fc = (2/T) * np.tan(fc * T/2) # Pre warp\n",
    "print(T)\n",
    "a0 = 4+(2*(gain/q)*fc*T) + (fc * T)**2\n",
    "a1 = 2*(fc*T)**2-8\n",
    "a2 = 4-(2*(gain/q)*fc*T) + (fc * T)**2\n",
    "\n",
    "b0 = 4+(2/q*fc*T) + (fc * T)**2\n",
    "b1 = -1*(2*(fc*T)**2-8)\n",
    "b2 = -1*(4-(2/q*fc*T) + (fc * T)**2)\n",
    " \n",
    "print(f\"\"\"\n",
    "data->a0 = {a0}f;\n",
    "data->a1 = {a1}f;\n",
    "data->a2 = {a2}f;\n",
    "data->b0 = {b0}f;\n",
    "data->b1 = {b1}f;\n",
    "data->b2 = {b2}f;\n",
    "      \"\"\")\n",
    "\"\"\"\n",
    "data->a0 = 4.427517361111112f;\n",
    "data->a1 = -7.978298611111111f;\n",
    "data->a2 = 3.594184027777778f;\n",
    "data->b0 = 4.219184027777778f;\n",
    "data->b1 = 7.978298611111111f;\n",
    "data->b2 = -3.802517361111111f;\n",
    "\"\"\""
   ]
  },
  {
   "cell_type": "code",
   "execution_count": 8,
   "metadata": {},
   "outputs": [
    {
     "name": "stdout",
     "output_type": "stream",
     "text": [
      "[100.0, 107.23, 114.98, 123.28, 132.19, 141.75, 151.99, 162.98, 174.75, 187.38, 200.92, 215.44, 231.01, 247.71, 265.61, 284.8, 305.39, 327.45, 351.12, 376.49, 403.7, 432.88, 464.16, 497.7, 533.67, 572.24, 613.59, 657.93, 705.48, 756.46, 811.13, 869.75, 932.6, 1000.0, 1072.27, 1149.76, 1232.85, 1321.94, 1417.47, 1519.91, 1629.75, 1747.53, 1873.82, 2009.23, 2154.43, 2310.13, 2477.08, 2656.09, 2848.04, 3053.86, 3274.55, 3511.19, 3764.94, 4037.02, 4328.76, 4641.59, 4977.02, 5336.7, 5722.37, 6135.91, 6579.33, 7054.8, 7564.63, 8111.31, 8697.49, 9326.03, 10000.0, 10722.67, 11497.57, 12328.47, 13219.41, 14174.74, 15199.11, 16297.51, 17475.28, 18738.17, 20092.33, 21544.35, 23101.3, 24770.76, 26560.88, 28480.36, 30538.56, 32745.49, 35111.92, 37649.36, 40370.17, 43287.61, 46415.89, 49770.24, 53366.99, 57223.68, 61359.07, 65793.32, 70548.02, 75646.33, 81113.08, 86974.9, 93260.33, 100000.0]\n"
     ]
    }
   ],
   "source": [
    "import numpy as np\n",
    "num_point = 100\n",
    "freq_min = 100\n",
    "freq_max = 100e3\n",
    "interval = (np.log10(freq_max) - np.log10(freq_min)) / (num_point - 1)\n",
    "freq_i = []\n",
    "freq_hz = []\n",
    "for i in range(num_point):\n",
    "    freq_i.append(float(f\"{10**(2+i*interval):.2f}\"))\n",
    "    # freq_hz.append(10**(10**(2+i*interval)))\n",
    "print(freq_i)"
   ]
  }
 ],
 "metadata": {
  "kernelspec": {
   "display_name": "Python 3",
   "language": "python",
   "name": "python3"
  },
  "language_info": {
   "codemirror_mode": {
    "name": "ipython",
    "version": 3
   },
   "file_extension": ".py",
   "mimetype": "text/x-python",
   "name": "python",
   "nbconvert_exporter": "python",
   "pygments_lexer": "ipython3",
   "version": "3.10.8"
  }
 },
 "nbformat": 4,
 "nbformat_minor": 2
}
